{
 "cells": [
  {
   "cell_type": "code",
   "execution_count": 1,
   "id": "2113461c-4702-421d-8bf8-89ab282387cd",
   "metadata": {
    "tags": []
   },
   "outputs": [],
   "source": [
    "import glob, os\n",
    "import numpy as np\n",
    "import pandas as pd\n",
    "from matplotlib import pyplot as plt"
   ]
  },
  {
   "cell_type": "code",
   "execution_count": 2,
   "id": "ad36d88f-ddb4-4a8a-a15e-9ef97bc8b6fa",
   "metadata": {
    "tags": []
   },
   "outputs": [],
   "source": [
    "from tueplots import bundles, figsizes\n",
    "\n",
    "plt.rcParams.update(bundles.icml2024())"
   ]
  },
  {
   "cell_type": "code",
   "execution_count": 3,
   "id": "41810ae6-25e7-4e8f-adbe-6fdc188b1896",
   "metadata": {
    "tags": []
   },
   "outputs": [],
   "source": [
    "from taskids import lcbench_ids, pd1_ids, taskset_ids"
   ]
  },
  {
   "cell_type": "code",
   "execution_count": 4,
   "id": "6e5ae389-ef98-4639-ba88-b56e1ec528d4",
   "metadata": {
    "tags": []
   },
   "outputs": [],
   "source": [
    "methods = {\n",
    "    \"bopfn_broken_unisep_1000curves_10params_2M\": \"FT-PFN\",\n",
    "    \"bopfn_broken_no_hps_1000curves_10params_2M\": \"FT-PFN (no HPs)\",\n",
    "    \"dyhpo\": \"DyHPO\",\n",
    "    \"dpl\": \"DPL\",\n",
    "}"
   ]
  },
  {
   "cell_type": "code",
   "execution_count": 5,
   "id": "15bd7441-89bf-4ef1-aa12-7bff1454a3dc",
   "metadata": {
    "tags": []
   },
   "outputs": [],
   "source": [
    "name_cols = {\n",
    "    \"lcbench_tabular\": \"LCBench\",\n",
    "    \"pd1_tabular\": \"PD1\",\n",
    "    \"taskset_tabular\": \"TaskSet\",\n",
    "}\n",
    "row_list = [\"DPL\", \"DyHPO\", \"FT-PFN (no HPs)\", \"FT-PFN\"]"
   ]
  },
  {
   "cell_type": "code",
   "execution_count": 6,
   "id": "c237d334-b86e-48e5-b83a-bd2f09772015",
   "metadata": {
    "tags": []
   },
   "outputs": [],
   "source": [
    "nsamples = [100, 200, 400, 800, 1000, 1200, 1400, 1800]"
   ]
  },
  {
   "cell_type": "code",
   "execution_count": 7,
   "id": "f31ae311-3a5e-469a-871d-1574f8ce7d7f",
   "metadata": {
    "tags": []
   },
   "outputs": [],
   "source": [
    "l_benchmarks = [\"lcbench_tabular\", \"pd1_tabular\", \"taskset_tabular\"]"
   ]
  },
  {
   "cell_type": "code",
   "execution_count": 8,
   "id": "95ce01d8-12ab-4f42-843e-28a433a69e10",
   "metadata": {
    "tags": []
   },
   "outputs": [],
   "source": [
    "df = []\n",
    "\n",
    "for benchmark in l_benchmarks:\n",
    "    for sep in nsamples:\n",
    "        for m in methods.keys():\n",
    "            benchmark_map = {\n",
    "                \"lcbench_tabular\": lcbench_ids,\n",
    "                \"pd1_tabular\": pd1_ids,\n",
    "                \"taskset_tabular\": taskset_ids,\n",
    "            }\n",
    "\n",
    "            for tid in benchmark_map.get(benchmark, []):\n",
    "                if benchmark == \"lcbench_tabular\":\n",
    "                    output_name = tid\n",
    "                elif benchmark == \"pd1_tabular\":\n",
    "                    output_name = f\"{tid['model']}_{tid['dataset']}_{tid['batch_size']}\"\n",
    "                    if \"coarseness\" in tid:\n",
    "                        output_name = f\"{output_name}_{tid['coarseness']}\"\n",
    "                elif benchmark == \"taskset_tabular\":\n",
    "                    output_name = f\"{tid['task_id']}_{tid['optimizer']}\"\n",
    "\n",
    "                try:\n",
    "                    data = np.load(\n",
    "                        f\"results/{benchmark}/{output_name}_100bs_{sep}sep_{m}.npy\"\n",
    "                    )\n",
    "                    data = pd.DataFrame(\n",
    "                        data, columns=[\"Log-likelihood\", \"MSE\", \"runtime\"]\n",
    "                    )\n",
    "                    data[\"sep\"] = sep\n",
    "                    data[\"method\"] = methods[m]\n",
    "                    data[\"benchmark\"] = benchmark\n",
    "                    data[\"batch\"] = np.arange(100)\n",
    "                    data[\"taskid\"] = f\"{benchmark}_{output_name}\"\n",
    "                    df.append(data)\n",
    "                except Exception as e:\n",
    "                    raise (e)\n",
    "\n",
    "df = pd.concat(df, ignore_index=True)"
   ]
  },
  {
   "cell_type": "code",
   "execution_count": 9,
   "id": "d2d8903f-9410-447d-87e8-32501467361d",
   "metadata": {
    "tags": []
   },
   "outputs": [],
   "source": [
    "data = (\n",
    "    df.groupby([\"benchmark\", \"sep\", \"method\"])[[\"Log-likelihood\", \"MSE\", \"runtime\"]]\n",
    "    .median()\n",
    "    .reset_index()\n",
    ")\n",
    "data = data.pivot(\n",
    "    index=[\"sep\", \"method\"],\n",
    "    columns=\"benchmark\",\n",
    "    values=[\"Log-likelihood\", \"MSE\", \"runtime\"],\n",
    ").swaplevel(0, 1, axis=1)"
   ]
  },
  {
   "cell_type": "code",
   "execution_count": 10,
   "id": "677a05f5-2e1d-44f6-a456-4b17f843fb8f",
   "metadata": {
    "tags": []
   },
   "outputs": [
    {
     "name": "stdout",
     "output_type": "stream",
     "text": [
      "[('LCBench', 'Log-likelihood'), ('LCBench', 'MSE'), ('PD1', 'Log-likelihood'), ('PD1', 'MSE'), ('TaskSet', 'Log-likelihood'), ('TaskSet', 'MSE')]\n"
     ]
    }
   ],
   "source": [
    "formated_data = []\n",
    "runtimes = []\n",
    "columns = []\n",
    "\n",
    "for d in l_benchmarks:\n",
    "    formated_data.append(data[d][[\"Log-likelihood\", \"MSE\"]])\n",
    "    runtimes.append(data[d][[\"runtime\"]])\n",
    "    columns.append((name_cols[d], \"Log-likelihood\"))\n",
    "    columns.append((name_cols[d], \"MSE\"))\n",
    "\n",
    "print(columns)\n",
    "columns.append((\"\", \"runtime\"))\n",
    "col_list = pd.MultiIndex.from_tuples(columns)\n",
    "rows_order = []\n",
    "for sep in [400, 800, 1000, 1400, 1800]:\n",
    "    for alg in row_list:\n",
    "        rows_order.append((sep, alg))"
   ]
  },
  {
   "cell_type": "code",
   "execution_count": 11,
   "id": "2b757e23-ea52-4427-90be-6415d60d7c09",
   "metadata": {
    "tags": []
   },
   "outputs": [],
   "source": [
    "formated_data = pd.concat(formated_data, axis=1)\n",
    "formated_data[\"runtime\"] = pd.concat(runtimes, axis=1).mean(1)"
   ]
  },
  {
   "cell_type": "code",
   "execution_count": 12,
   "id": "3253ef31-214a-4dcb-b2a3-764fcafd7663",
   "metadata": {
    "tags": []
   },
   "outputs": [
    {
     "data": {
      "text/html": [
       "<style type=\"text/css\">\n",
       "</style>\n",
       "<table id=\"T_27a06\">\n",
       "  <thead>\n",
       "    <tr>\n",
       "      <th class=\"blank\" >&nbsp;</th>\n",
       "      <th class=\"blank level0\" >&nbsp;</th>\n",
       "      <th id=\"T_27a06_level0_col0\" class=\"col_heading level0 col0\" colspan=\"2\">LCBench</th>\n",
       "      <th id=\"T_27a06_level0_col2\" class=\"col_heading level0 col2\" colspan=\"2\">PD1</th>\n",
       "      <th id=\"T_27a06_level0_col4\" class=\"col_heading level0 col4\" colspan=\"2\">TaskSet</th>\n",
       "      <th id=\"T_27a06_level0_col6\" class=\"col_heading level0 col6\" ></th>\n",
       "    </tr>\n",
       "    <tr>\n",
       "      <th class=\"blank\" >&nbsp;</th>\n",
       "      <th class=\"blank level1\" >&nbsp;</th>\n",
       "      <th id=\"T_27a06_level1_col0\" class=\"col_heading level1 col0\" >Log-likelihood</th>\n",
       "      <th id=\"T_27a06_level1_col1\" class=\"col_heading level1 col1\" >MSE</th>\n",
       "      <th id=\"T_27a06_level1_col2\" class=\"col_heading level1 col2\" >Log-likelihood</th>\n",
       "      <th id=\"T_27a06_level1_col3\" class=\"col_heading level1 col3\" >MSE</th>\n",
       "      <th id=\"T_27a06_level1_col4\" class=\"col_heading level1 col4\" >Log-likelihood</th>\n",
       "      <th id=\"T_27a06_level1_col5\" class=\"col_heading level1 col5\" >MSE</th>\n",
       "      <th id=\"T_27a06_level1_col6\" class=\"col_heading level1 col6\" >runtime</th>\n",
       "    </tr>\n",
       "  </thead>\n",
       "  <tbody>\n",
       "    <tr>\n",
       "      <th id=\"T_27a06_level0_row0\" class=\"row_heading level0 row0\" rowspan=\"4\">400</th>\n",
       "      <th id=\"T_27a06_level1_row0\" class=\"row_heading level1 row0\" >DPL</th>\n",
       "      <td id=\"T_27a06_row0_col0\" class=\"data row0 col0\" >-14.577</td>\n",
       "      <td id=\"T_27a06_row0_col1\" class=\"data row0 col1\" >0.007</td>\n",
       "      <td id=\"T_27a06_row0_col2\" class=\"data row0 col2\" >-13.384</td>\n",
       "      <td id=\"T_27a06_row0_col3\" class=\"data row0 col3\" >0.043</td>\n",
       "      <td id=\"T_27a06_row0_col4\" class=\"data row0 col4\" >-26.011</td>\n",
       "      <td id=\"T_27a06_row0_col5\" class=\"data row0 col5\" >0.005</td>\n",
       "      <td id=\"T_27a06_row0_col6\" class=\"data row0 col6\" >17.686</td>\n",
       "    </tr>\n",
       "    <tr>\n",
       "      <th id=\"T_27a06_level1_row1\" class=\"row_heading level1 row1\" >DyHPO</th>\n",
       "      <td id=\"T_27a06_row1_col0\" class=\"data row1 col0\" >-0.481</td>\n",
       "      <td id=\"T_27a06_row1_col1\" class=\"data row1 col1\" >0.042</td>\n",
       "      <td id=\"T_27a06_row1_col2\" class=\"data row1 col2\" >-0.573</td>\n",
       "      <td id=\"T_27a06_row1_col3\" class=\"data row1 col3\" >0.104</td>\n",
       "      <td id=\"T_27a06_row1_col4\" class=\"data row1 col4\" >-0.465</td>\n",
       "      <td id=\"T_27a06_row1_col5\" class=\"data row1 col5\" >0.009</td>\n",
       "      <td id=\"T_27a06_row1_col6\" class=\"data row1 col6\" >16.860</td>\n",
       "    </tr>\n",
       "    <tr>\n",
       "      <th id=\"T_27a06_level1_row2\" class=\"row_heading level1 row2\" >FT-PFN (no HPs)</th>\n",
       "      <td id=\"T_27a06_row2_col0\" class=\"data row2 col0\" >1.649</td>\n",
       "      <td id=\"T_27a06_row2_col1\" class=\"data row2 col1\" >0.008</td>\n",
       "      <td id=\"T_27a06_row2_col2\" class=\"data row2 col2\" >0.983</td>\n",
       "      <td id=\"T_27a06_row2_col3\" class=\"data row2 col3\" >0.028</td>\n",
       "      <td id=\"T_27a06_row2_col4\" class=\"data row2 col4\" >2.860</td>\n",
       "      <td id=\"T_27a06_row2_col5\" class=\"data row2 col5\" >0.005</td>\n",
       "      <td id=\"T_27a06_row2_col6\" class=\"data row2 col6\" >0.215</td>\n",
       "    </tr>\n",
       "    <tr>\n",
       "      <th id=\"T_27a06_level1_row3\" class=\"row_heading level1 row3\" >FT-PFN</th>\n",
       "      <td id=\"T_27a06_row3_col0\" class=\"data row3 col0\" >1.876</td>\n",
       "      <td id=\"T_27a06_row3_col1\" class=\"data row3 col1\" >0.005</td>\n",
       "      <td id=\"T_27a06_row3_col2\" class=\"data row3 col2\" >0.925</td>\n",
       "      <td id=\"T_27a06_row3_col3\" class=\"data row3 col3\" >0.030</td>\n",
       "      <td id=\"T_27a06_row3_col4\" class=\"data row3 col4\" >2.934</td>\n",
       "      <td id=\"T_27a06_row3_col5\" class=\"data row3 col5\" >0.004</td>\n",
       "      <td id=\"T_27a06_row3_col6\" class=\"data row3 col6\" >0.225</td>\n",
       "    </tr>\n",
       "    <tr>\n",
       "      <th id=\"T_27a06_level0_row4\" class=\"row_heading level0 row4\" rowspan=\"4\">800</th>\n",
       "      <th id=\"T_27a06_level1_row4\" class=\"row_heading level1 row4\" >DPL</th>\n",
       "      <td id=\"T_27a06_row4_col0\" class=\"data row4 col0\" >-13.291</td>\n",
       "      <td id=\"T_27a06_row4_col1\" class=\"data row4 col1\" >0.007</td>\n",
       "      <td id=\"T_27a06_row4_col2\" class=\"data row4 col2\" >-11.721</td>\n",
       "      <td id=\"T_27a06_row4_col3\" class=\"data row4 col3\" >0.037</td>\n",
       "      <td id=\"T_27a06_row4_col4\" class=\"data row4 col4\" >-21.779</td>\n",
       "      <td id=\"T_27a06_row4_col5\" class=\"data row4 col5\" >0.005</td>\n",
       "      <td id=\"T_27a06_row4_col6\" class=\"data row4 col6\" >33.480</td>\n",
       "    </tr>\n",
       "    <tr>\n",
       "      <th id=\"T_27a06_level1_row5\" class=\"row_heading level1 row5\" >DyHPO</th>\n",
       "      <td id=\"T_27a06_row5_col0\" class=\"data row5 col0\" >-0.426</td>\n",
       "      <td id=\"T_27a06_row5_col1\" class=\"data row5 col1\" >0.031</td>\n",
       "      <td id=\"T_27a06_row5_col2\" class=\"data row5 col2\" >-0.510</td>\n",
       "      <td id=\"T_27a06_row5_col3\" class=\"data row5 col3\" >0.088</td>\n",
       "      <td id=\"T_27a06_row5_col4\" class=\"data row5 col4\" >-0.419</td>\n",
       "      <td id=\"T_27a06_row5_col5\" class=\"data row5 col5\" >0.008</td>\n",
       "      <td id=\"T_27a06_row5_col6\" class=\"data row5 col6\" >64.809</td>\n",
       "    </tr>\n",
       "    <tr>\n",
       "      <th id=\"T_27a06_level1_row6\" class=\"row_heading level1 row6\" >FT-PFN (no HPs)</th>\n",
       "      <td id=\"T_27a06_row6_col0\" class=\"data row6 col0\" >1.701</td>\n",
       "      <td id=\"T_27a06_row6_col1\" class=\"data row6 col1\" >0.007</td>\n",
       "      <td id=\"T_27a06_row6_col2\" class=\"data row6 col2\" >1.103</td>\n",
       "      <td id=\"T_27a06_row6_col3\" class=\"data row6 col3\" >0.024</td>\n",
       "      <td id=\"T_27a06_row6_col4\" class=\"data row6 col4\" >2.835</td>\n",
       "      <td id=\"T_27a06_row6_col5\" class=\"data row6 col5\" >0.005</td>\n",
       "      <td id=\"T_27a06_row6_col6\" class=\"data row6 col6\" >0.527</td>\n",
       "    </tr>\n",
       "    <tr>\n",
       "      <th id=\"T_27a06_level1_row7\" class=\"row_heading level1 row7\" >FT-PFN</th>\n",
       "      <td id=\"T_27a06_row7_col0\" class=\"data row7 col0\" >2.044</td>\n",
       "      <td id=\"T_27a06_row7_col1\" class=\"data row7 col1\" >0.004</td>\n",
       "      <td id=\"T_27a06_row7_col2\" class=\"data row7 col2\" >1.072</td>\n",
       "      <td id=\"T_27a06_row7_col3\" class=\"data row7 col3\" >0.025</td>\n",
       "      <td id=\"T_27a06_row7_col4\" class=\"data row7 col4\" >2.975</td>\n",
       "      <td id=\"T_27a06_row7_col5\" class=\"data row7 col5\" >0.004</td>\n",
       "      <td id=\"T_27a06_row7_col6\" class=\"data row7 col6\" >0.541</td>\n",
       "    </tr>\n",
       "    <tr>\n",
       "      <th id=\"T_27a06_level0_row8\" class=\"row_heading level0 row8\" rowspan=\"4\">1000</th>\n",
       "      <th id=\"T_27a06_level1_row8\" class=\"row_heading level1 row8\" >DPL</th>\n",
       "      <td id=\"T_27a06_row8_col0\" class=\"data row8 col0\" >-11.983</td>\n",
       "      <td id=\"T_27a06_row8_col1\" class=\"data row8 col1\" >0.007</td>\n",
       "      <td id=\"T_27a06_row8_col2\" class=\"data row8 col2\" >-11.017</td>\n",
       "      <td id=\"T_27a06_row8_col3\" class=\"data row8 col3\" >0.035</td>\n",
       "      <td id=\"T_27a06_row8_col4\" class=\"data row8 col4\" >-20.350</td>\n",
       "      <td id=\"T_27a06_row8_col5\" class=\"data row8 col5\" >0.004</td>\n",
       "      <td id=\"T_27a06_row8_col6\" class=\"data row8 col6\" >41.956</td>\n",
       "    </tr>\n",
       "    <tr>\n",
       "      <th id=\"T_27a06_level1_row9\" class=\"row_heading level1 row9\" >DyHPO</th>\n",
       "      <td id=\"T_27a06_row9_col0\" class=\"data row9 col0\" >-0.368</td>\n",
       "      <td id=\"T_27a06_row9_col1\" class=\"data row9 col1\" >0.012</td>\n",
       "      <td id=\"T_27a06_row9_col2\" class=\"data row9 col2\" >-0.457</td>\n",
       "      <td id=\"T_27a06_row9_col3\" class=\"data row9 col3\" >0.071</td>\n",
       "      <td id=\"T_27a06_row9_col4\" class=\"data row9 col4\" >-0.381</td>\n",
       "      <td id=\"T_27a06_row9_col5\" class=\"data row9 col5\" >0.008</td>\n",
       "      <td id=\"T_27a06_row9_col6\" class=\"data row9 col6\" >59.949</td>\n",
       "    </tr>\n",
       "    <tr>\n",
       "      <th id=\"T_27a06_level1_row10\" class=\"row_heading level1 row10\" >FT-PFN (no HPs)</th>\n",
       "      <td id=\"T_27a06_row10_col0\" class=\"data row10 col0\" >1.763</td>\n",
       "      <td id=\"T_27a06_row10_col1\" class=\"data row10 col1\" >0.007</td>\n",
       "      <td id=\"T_27a06_row10_col2\" class=\"data row10 col2\" >1.120</td>\n",
       "      <td id=\"T_27a06_row10_col3\" class=\"data row10 col3\" >0.024</td>\n",
       "      <td id=\"T_27a06_row10_col4\" class=\"data row10 col4\" >2.877</td>\n",
       "      <td id=\"T_27a06_row10_col5\" class=\"data row10 col5\" >0.005</td>\n",
       "      <td id=\"T_27a06_row10_col6\" class=\"data row10 col6\" >0.687</td>\n",
       "    </tr>\n",
       "    <tr>\n",
       "      <th id=\"T_27a06_level1_row11\" class=\"row_heading level1 row11\" >FT-PFN</th>\n",
       "      <td id=\"T_27a06_row11_col0\" class=\"data row11 col0\" >2.118</td>\n",
       "      <td id=\"T_27a06_row11_col1\" class=\"data row11 col1\" >0.004</td>\n",
       "      <td id=\"T_27a06_row11_col2\" class=\"data row11 col2\" >1.133</td>\n",
       "      <td id=\"T_27a06_row11_col3\" class=\"data row11 col3\" >0.024</td>\n",
       "      <td id=\"T_27a06_row11_col4\" class=\"data row11 col4\" >3.016</td>\n",
       "      <td id=\"T_27a06_row11_col5\" class=\"data row11 col5\" >0.004</td>\n",
       "      <td id=\"T_27a06_row11_col6\" class=\"data row11 col6\" >0.719</td>\n",
       "    </tr>\n",
       "    <tr>\n",
       "      <th id=\"T_27a06_level0_row12\" class=\"row_heading level0 row12\" rowspan=\"4\">1400</th>\n",
       "      <th id=\"T_27a06_level1_row12\" class=\"row_heading level1 row12\" >DPL</th>\n",
       "      <td id=\"T_27a06_row12_col0\" class=\"data row12 col0\" >-11.333</td>\n",
       "      <td id=\"T_27a06_row12_col1\" class=\"data row12 col1\" >0.007</td>\n",
       "      <td id=\"T_27a06_row12_col2\" class=\"data row12 col2\" >-10.353</td>\n",
       "      <td id=\"T_27a06_row12_col3\" class=\"data row12 col3\" >0.033</td>\n",
       "      <td id=\"T_27a06_row12_col4\" class=\"data row12 col4\" >-17.760</td>\n",
       "      <td id=\"T_27a06_row12_col5\" class=\"data row12 col5\" >0.004</td>\n",
       "      <td id=\"T_27a06_row12_col6\" class=\"data row12 col6\" >56.576</td>\n",
       "    </tr>\n",
       "    <tr>\n",
       "      <th id=\"T_27a06_level1_row13\" class=\"row_heading level1 row13\" >DyHPO</th>\n",
       "      <td id=\"T_27a06_row13_col0\" class=\"data row13 col0\" >-0.361</td>\n",
       "      <td id=\"T_27a06_row13_col1\" class=\"data row13 col1\" >0.011</td>\n",
       "      <td id=\"T_27a06_row13_col2\" class=\"data row13 col2\" >-0.438</td>\n",
       "      <td id=\"T_27a06_row13_col3\" class=\"data row13 col3\" >0.061</td>\n",
       "      <td id=\"T_27a06_row13_col4\" class=\"data row13 col4\" >-0.374</td>\n",
       "      <td id=\"T_27a06_row13_col5\" class=\"data row13 col5\" >0.008</td>\n",
       "      <td id=\"T_27a06_row13_col6\" class=\"data row13 col6\" >112.168</td>\n",
       "    </tr>\n",
       "    <tr>\n",
       "      <th id=\"T_27a06_level1_row14\" class=\"row_heading level1 row14\" >FT-PFN (no HPs)</th>\n",
       "      <td id=\"T_27a06_row14_col0\" class=\"data row14 col0\" >1.733</td>\n",
       "      <td id=\"T_27a06_row14_col1\" class=\"data row14 col1\" >0.007</td>\n",
       "      <td id=\"T_27a06_row14_col2\" class=\"data row14 col2\" >1.225</td>\n",
       "      <td id=\"T_27a06_row14_col3\" class=\"data row14 col3\" >0.021</td>\n",
       "      <td id=\"T_27a06_row14_col4\" class=\"data row14 col4\" >2.874</td>\n",
       "      <td id=\"T_27a06_row14_col5\" class=\"data row14 col5\" >0.005</td>\n",
       "      <td id=\"T_27a06_row14_col6\" class=\"data row14 col6\" >1.084</td>\n",
       "    </tr>\n",
       "    <tr>\n",
       "      <th id=\"T_27a06_level1_row15\" class=\"row_heading level1 row15\" >FT-PFN</th>\n",
       "      <td id=\"T_27a06_row15_col0\" class=\"data row15 col0\" >2.137</td>\n",
       "      <td id=\"T_27a06_row15_col1\" class=\"data row15 col1\" >0.003</td>\n",
       "      <td id=\"T_27a06_row15_col2\" class=\"data row15 col2\" >1.201</td>\n",
       "      <td id=\"T_27a06_row15_col3\" class=\"data row15 col3\" >0.022</td>\n",
       "      <td id=\"T_27a06_row15_col4\" class=\"data row15 col4\" >3.042</td>\n",
       "      <td id=\"T_27a06_row15_col5\" class=\"data row15 col5\" >0.004</td>\n",
       "      <td id=\"T_27a06_row15_col6\" class=\"data row15 col6\" >1.130</td>\n",
       "    </tr>\n",
       "    <tr>\n",
       "      <th id=\"T_27a06_level0_row16\" class=\"row_heading level0 row16\" rowspan=\"4\">1800</th>\n",
       "      <th id=\"T_27a06_level1_row16\" class=\"row_heading level1 row16\" >DPL</th>\n",
       "      <td id=\"T_27a06_row16_col0\" class=\"data row16 col0\" >-9.182</td>\n",
       "      <td id=\"T_27a06_row16_col1\" class=\"data row16 col1\" >0.007</td>\n",
       "      <td id=\"T_27a06_row16_col2\" class=\"data row16 col2\" >-9.263</td>\n",
       "      <td id=\"T_27a06_row16_col3\" class=\"data row16 col3\" >0.035</td>\n",
       "      <td id=\"T_27a06_row16_col4\" class=\"data row16 col4\" >-13.712</td>\n",
       "      <td id=\"T_27a06_row16_col5\" class=\"data row16 col5\" >0.004</td>\n",
       "      <td id=\"T_27a06_row16_col6\" class=\"data row16 col6\" >73.435</td>\n",
       "    </tr>\n",
       "    <tr>\n",
       "      <th id=\"T_27a06_level1_row17\" class=\"row_heading level1 row17\" >DyHPO</th>\n",
       "      <td id=\"T_27a06_row17_col0\" class=\"data row17 col0\" >-0.365</td>\n",
       "      <td id=\"T_27a06_row17_col1\" class=\"data row17 col1\" >0.009</td>\n",
       "      <td id=\"T_27a06_row17_col2\" class=\"data row17 col2\" >-0.437</td>\n",
       "      <td id=\"T_27a06_row17_col3\" class=\"data row17 col3\" >0.058</td>\n",
       "      <td id=\"T_27a06_row17_col4\" class=\"data row17 col4\" >-0.381</td>\n",
       "      <td id=\"T_27a06_row17_col5\" class=\"data row17 col5\" >0.008</td>\n",
       "      <td id=\"T_27a06_row17_col6\" class=\"data row17 col6\" >166.491</td>\n",
       "    </tr>\n",
       "    <tr>\n",
       "      <th id=\"T_27a06_level1_row18\" class=\"row_heading level1 row18\" >FT-PFN (no HPs)</th>\n",
       "      <td id=\"T_27a06_row18_col0\" class=\"data row18 col0\" >1.753</td>\n",
       "      <td id=\"T_27a06_row18_col1\" class=\"data row18 col1\" >0.006</td>\n",
       "      <td id=\"T_27a06_row18_col2\" class=\"data row18 col2\" >1.251</td>\n",
       "      <td id=\"T_27a06_row18_col3\" class=\"data row18 col3\" >0.019</td>\n",
       "      <td id=\"T_27a06_row18_col4\" class=\"data row18 col4\" >2.858</td>\n",
       "      <td id=\"T_27a06_row18_col5\" class=\"data row18 col5\" >0.005</td>\n",
       "      <td id=\"T_27a06_row18_col6\" class=\"data row18 col6\" >1.635</td>\n",
       "    </tr>\n",
       "    <tr>\n",
       "      <th id=\"T_27a06_level1_row19\" class=\"row_heading level1 row19\" >FT-PFN</th>\n",
       "      <td id=\"T_27a06_row19_col0\" class=\"data row19 col0\" >2.199</td>\n",
       "      <td id=\"T_27a06_row19_col1\" class=\"data row19 col1\" >0.003</td>\n",
       "      <td id=\"T_27a06_row19_col2\" class=\"data row19 col2\" >1.192</td>\n",
       "      <td id=\"T_27a06_row19_col3\" class=\"data row19 col3\" >0.022</td>\n",
       "      <td id=\"T_27a06_row19_col4\" class=\"data row19 col4\" >3.057</td>\n",
       "      <td id=\"T_27a06_row19_col5\" class=\"data row19 col5\" >0.004</td>\n",
       "      <td id=\"T_27a06_row19_col6\" class=\"data row19 col6\" >1.715</td>\n",
       "    </tr>\n",
       "  </tbody>\n",
       "</table>\n"
      ],
      "text/plain": [
       "<pandas.io.formats.style.Styler at 0x7a85ddf2ed70>"
      ]
     },
     "execution_count": 12,
     "metadata": {},
     "output_type": "execute_result"
    }
   ],
   "source": [
    "formated_data = formated_data.loc[rows_order]\n",
    "formated_data.columns = col_list\n",
    "styled_data = formated_data.style.format(precision=3, decimal=\".\").hide(names=True)\n",
    "styled_data"
   ]
  },
  {
   "cell_type": "code",
   "execution_count": null,
   "id": "4cb23158-2039-4ecc-8b00-1f09a3fbdb79",
   "metadata": {},
   "outputs": [],
   "source": []
  }
 ],
 "metadata": {
  "kernelspec": {
   "display_name": "personal-lcpfn-hpo",
   "language": "python",
   "name": "heri-env"
  },
  "language_info": {
   "codemirror_mode": {
    "name": "ipython",
    "version": 3
   },
   "file_extension": ".py",
   "mimetype": "text/x-python",
   "name": "python",
   "nbconvert_exporter": "python",
   "pygments_lexer": "ipython3",
   "version": "3.10.12"
  }
 },
 "nbformat": 4,
 "nbformat_minor": 5
}
